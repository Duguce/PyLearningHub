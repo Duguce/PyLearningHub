{
 "cells": [
  {
   "attachments": {},
   "cell_type": "markdown",
   "metadata": {},
   "source": [
    "# 淘宝用户行为数据分析"
   ]
  },
  {
   "attachments": {},
   "cell_type": "markdown",
   "metadata": {},
   "source": [
    "数据集地址：https://tianchi.aliyun.com/dataset/649?spm=5176.12281976.J_3941670930.10.278012c4DsfWE6"
   ]
  },
  {
   "attachments": {},
   "cell_type": "markdown",
   "metadata": {},
   "source": [
    "## 导入相关包"
   ]
  },
  {
   "cell_type": "code",
   "execution_count": 1,
   "metadata": {},
   "outputs": [],
   "source": [
    "import pandas as pd\n",
    "import numpy as np\n",
    "import matplotlib.pyplot as plt\n",
    "import seaborn as sns\n",
    "import warnings\n",
    "warnings.filterwarnings('ignore')\n",
    "%matplotlib inline\n",
    "\n",
    "sns.set(style='whitegrid', palette='muted', font_scale=1.5)\n",
    "np.random.seed(42)\n",
    "plt.rcParams['font.sans-serif'] = ['SimHei']\n",
    "plt.rcParams['axes.unicode_minus'] = False"
   ]
  },
  {
   "attachments": {},
   "cell_type": "markdown",
   "metadata": {},
   "source": [
    "## 数据概览"
   ]
  },
  {
   "cell_type": "code",
   "execution_count": 2,
   "metadata": {},
   "outputs": [
    {
     "data": {
      "text/html": [
       "<div>\n",
       "<style scoped>\n",
       "    .dataframe tbody tr th:only-of-type {\n",
       "        vertical-align: middle;\n",
       "    }\n",
       "\n",
       "    .dataframe tbody tr th {\n",
       "        vertical-align: top;\n",
       "    }\n",
       "\n",
       "    .dataframe thead th {\n",
       "        text-align: right;\n",
       "    }\n",
       "</style>\n",
       "<table border=\"1\" class=\"dataframe\">\n",
       "  <thead>\n",
       "    <tr style=\"text-align: right;\">\n",
       "      <th></th>\n",
       "      <th>1</th>\n",
       "      <th>2268318</th>\n",
       "      <th>2520377</th>\n",
       "      <th>pv</th>\n",
       "      <th>1511544070</th>\n",
       "    </tr>\n",
       "  </thead>\n",
       "  <tbody>\n",
       "    <tr>\n",
       "      <th>0</th>\n",
       "      <td>1</td>\n",
       "      <td>2333346</td>\n",
       "      <td>2520771</td>\n",
       "      <td>pv</td>\n",
       "      <td>1511561733</td>\n",
       "    </tr>\n",
       "    <tr>\n",
       "      <th>1</th>\n",
       "      <td>1</td>\n",
       "      <td>2576651</td>\n",
       "      <td>149192</td>\n",
       "      <td>pv</td>\n",
       "      <td>1511572885</td>\n",
       "    </tr>\n",
       "    <tr>\n",
       "      <th>2</th>\n",
       "      <td>1</td>\n",
       "      <td>3830808</td>\n",
       "      <td>4181361</td>\n",
       "      <td>pv</td>\n",
       "      <td>1511593493</td>\n",
       "    </tr>\n",
       "    <tr>\n",
       "      <th>3</th>\n",
       "      <td>1</td>\n",
       "      <td>4365585</td>\n",
       "      <td>2520377</td>\n",
       "      <td>pv</td>\n",
       "      <td>1511596146</td>\n",
       "    </tr>\n",
       "    <tr>\n",
       "      <th>4</th>\n",
       "      <td>1</td>\n",
       "      <td>4606018</td>\n",
       "      <td>2735466</td>\n",
       "      <td>pv</td>\n",
       "      <td>1511616481</td>\n",
       "    </tr>\n",
       "  </tbody>\n",
       "</table>\n",
       "</div>"
      ],
      "text/plain": [
       "   1  2268318  2520377  pv  1511544070\n",
       "0  1  2333346  2520771  pv  1511561733\n",
       "1  1  2576651   149192  pv  1511572885\n",
       "2  1  3830808  4181361  pv  1511593493\n",
       "3  1  4365585  2520377  pv  1511596146\n",
       "4  1  4606018  2735466  pv  1511616481"
      ]
     },
     "execution_count": 2,
     "metadata": {},
     "output_type": "execute_result"
    }
   ],
   "source": [
    "# 读取数据\n",
    "user_data = pd.read_csv('data/UserBehavior.csv', memory_map=True, nrows=1000000, dtype=str)\n",
    "# 查看数据\n",
    "user_data.head()"
   ]
  },
  {
   "cell_type": "code",
   "execution_count": 3,
   "metadata": {},
   "outputs": [
    {
     "name": "stdout",
     "output_type": "stream",
     "text": [
      "<class 'pandas.core.frame.DataFrame'>\n",
      "RangeIndex: 1000000 entries, 0 to 999999\n",
      "Data columns (total 5 columns):\n",
      " #   Column      Non-Null Count    Dtype \n",
      "---  ------      --------------    ----- \n",
      " 0   1           1000000 non-null  object\n",
      " 1   2268318     1000000 non-null  object\n",
      " 2   2520377     1000000 non-null  object\n",
      " 3   pv          1000000 non-null  object\n",
      " 4   1511544070  1000000 non-null  object\n",
      "dtypes: object(5)\n",
      "memory usage: 38.1+ MB\n"
     ]
    }
   ],
   "source": [
    "# 查看数据的基本信息\n",
    "user_data.info()"
   ]
  },
  {
   "cell_type": "code",
   "execution_count": 4,
   "metadata": {},
   "outputs": [],
   "source": [
    "# 给数据添加表头\n",
    "user_data.columns = ['user_id', 'item_id', 'category_id', 'behavior_type', 'timestamp']"
   ]
  },
  {
   "cell_type": "code",
   "execution_count": 5,
   "metadata": {},
   "outputs": [
    {
     "name": "stdout",
     "output_type": "stream",
     "text": [
      "<class 'pandas.core.frame.DataFrame'>\n",
      "RangeIndex: 1000000 entries, 0 to 999999\n",
      "Data columns (total 5 columns):\n",
      " #   Column         Non-Null Count    Dtype \n",
      "---  ------         --------------    ----- \n",
      " 0   user_id        1000000 non-null  object\n",
      " 1   item_id        1000000 non-null  object\n",
      " 2   category_id    1000000 non-null  object\n",
      " 3   behavior_type  1000000 non-null  object\n",
      " 4   timestamp      1000000 non-null  object\n",
      "dtypes: object(5)\n",
      "memory usage: 38.1+ MB\n"
     ]
    }
   ],
   "source": [
    "# 查看数据的基本信息\n",
    "user_data.info()"
   ]
  },
  {
   "cell_type": "code",
   "execution_count": 6,
   "metadata": {},
   "outputs": [
    {
     "data": {
      "text/html": [
       "<div>\n",
       "<style scoped>\n",
       "    .dataframe tbody tr th:only-of-type {\n",
       "        vertical-align: middle;\n",
       "    }\n",
       "\n",
       "    .dataframe tbody tr th {\n",
       "        vertical-align: top;\n",
       "    }\n",
       "\n",
       "    .dataframe thead th {\n",
       "        text-align: right;\n",
       "    }\n",
       "</style>\n",
       "<table border=\"1\" class=\"dataframe\">\n",
       "  <thead>\n",
       "    <tr style=\"text-align: right;\">\n",
       "      <th></th>\n",
       "      <th>user_id</th>\n",
       "      <th>item_id</th>\n",
       "      <th>category_id</th>\n",
       "      <th>behavior_type</th>\n",
       "      <th>timestamp</th>\n",
       "    </tr>\n",
       "  </thead>\n",
       "  <tbody>\n",
       "    <tr>\n",
       "      <th>count</th>\n",
       "      <td>1000000</td>\n",
       "      <td>1000000</td>\n",
       "      <td>1000000</td>\n",
       "      <td>1000000</td>\n",
       "      <td>1000000</td>\n",
       "    </tr>\n",
       "    <tr>\n",
       "      <th>unique</th>\n",
       "      <td>9739</td>\n",
       "      <td>399115</td>\n",
       "      <td>5796</td>\n",
       "      <td>4</td>\n",
       "      <td>499049</td>\n",
       "    </tr>\n",
       "    <tr>\n",
       "      <th>top</th>\n",
       "      <td>115477</td>\n",
       "      <td>812879</td>\n",
       "      <td>4756105</td>\n",
       "      <td>pv</td>\n",
       "      <td>1512206464</td>\n",
       "    </tr>\n",
       "    <tr>\n",
       "      <th>freq</th>\n",
       "      <td>781</td>\n",
       "      <td>304</td>\n",
       "      <td>51877</td>\n",
       "      <td>896106</td>\n",
       "      <td>27</td>\n",
       "    </tr>\n",
       "  </tbody>\n",
       "</table>\n",
       "</div>"
      ],
      "text/plain": [
       "        user_id  item_id category_id behavior_type   timestamp\n",
       "count   1000000  1000000     1000000       1000000     1000000\n",
       "unique     9739   399115        5796             4      499049\n",
       "top      115477   812879     4756105            pv  1512206464\n",
       "freq        781      304       51877        896106          27"
      ]
     },
     "execution_count": 6,
     "metadata": {},
     "output_type": "execute_result"
    }
   ],
   "source": [
    "# 查看数据的基本统计信息\n",
    "user_data.describe()"
   ]
  },
  {
   "cell_type": "code",
   "execution_count": 7,
   "metadata": {},
   "outputs": [
    {
     "data": {
      "text/plain": [
       "user_id          0\n",
       "item_id          0\n",
       "category_id      0\n",
       "behavior_type    0\n",
       "timestamp        0\n",
       "dtype: int64"
      ]
     },
     "execution_count": 7,
     "metadata": {},
     "output_type": "execute_result"
    }
   ],
   "source": [
    "# 查看数据的缺失值\n",
    "user_data.isnull().sum()"
   ]
  },
  {
   "cell_type": "code",
   "execution_count": 8,
   "metadata": {},
   "outputs": [
    {
     "data": {
      "text/plain": [
       "0"
      ]
     },
     "execution_count": 8,
     "metadata": {},
     "output_type": "execute_result"
    }
   ],
   "source": [
    "# 查看数据的重复值\n",
    "user_data.duplicated().sum()"
   ]
  },
  {
   "cell_type": "code",
   "execution_count": 9,
   "metadata": {},
   "outputs": [
    {
     "data": {
      "text/plain": [
       "user_id            9739\n",
       "item_id          399115\n",
       "category_id        5796\n",
       "behavior_type         4\n",
       "timestamp        499049\n",
       "dtype: int64"
      ]
     },
     "execution_count": 9,
     "metadata": {},
     "output_type": "execute_result"
    }
   ],
   "source": [
    "# 查看数据的唯一值\n",
    "user_data.nunique()"
   ]
  },
  {
   "cell_type": "code",
   "execution_count": 10,
   "metadata": {},
   "outputs": [
    {
     "data": {
      "text/plain": [
       "(1000000, 5)"
      ]
     },
     "execution_count": 10,
     "metadata": {},
     "output_type": "execute_result"
    }
   ],
   "source": [
    "# 查看数据的行数和列数\n",
    "user_data.shape"
   ]
  },
  {
   "attachments": {},
   "cell_type": "markdown",
   "metadata": {},
   "source": [
    "## 数据预处理"
   ]
  },
  {
   "cell_type": "code",
   "execution_count": 11,
   "metadata": {},
   "outputs": [],
   "source": [
    "# 新增日期和小时列\n",
    "user_data['date'] = pd.to_datetime(user_data['timestamp'], unit='s').dt.date\n",
    "user_data['hour'] = pd.to_datetime(user_data['timestamp'], unit='s').dt.hour"
   ]
  },
  {
   "cell_type": "code",
   "execution_count": 12,
   "metadata": {},
   "outputs": [
    {
     "data": {
      "text/html": [
       "<div>\n",
       "<style scoped>\n",
       "    .dataframe tbody tr th:only-of-type {\n",
       "        vertical-align: middle;\n",
       "    }\n",
       "\n",
       "    .dataframe tbody tr th {\n",
       "        vertical-align: top;\n",
       "    }\n",
       "\n",
       "    .dataframe thead th {\n",
       "        text-align: right;\n",
       "    }\n",
       "</style>\n",
       "<table border=\"1\" class=\"dataframe\">\n",
       "  <thead>\n",
       "    <tr style=\"text-align: right;\">\n",
       "      <th></th>\n",
       "      <th>user_id</th>\n",
       "      <th>item_id</th>\n",
       "      <th>category_id</th>\n",
       "      <th>behavior_type</th>\n",
       "      <th>timestamp</th>\n",
       "      <th>date</th>\n",
       "      <th>hour</th>\n",
       "    </tr>\n",
       "  </thead>\n",
       "  <tbody>\n",
       "    <tr>\n",
       "      <th>0</th>\n",
       "      <td>1</td>\n",
       "      <td>2333346</td>\n",
       "      <td>2520771</td>\n",
       "      <td>pv</td>\n",
       "      <td>1511561733</td>\n",
       "      <td>2017-11-24</td>\n",
       "      <td>22</td>\n",
       "    </tr>\n",
       "    <tr>\n",
       "      <th>1</th>\n",
       "      <td>1</td>\n",
       "      <td>2576651</td>\n",
       "      <td>149192</td>\n",
       "      <td>pv</td>\n",
       "      <td>1511572885</td>\n",
       "      <td>2017-11-25</td>\n",
       "      <td>1</td>\n",
       "    </tr>\n",
       "    <tr>\n",
       "      <th>2</th>\n",
       "      <td>1</td>\n",
       "      <td>3830808</td>\n",
       "      <td>4181361</td>\n",
       "      <td>pv</td>\n",
       "      <td>1511593493</td>\n",
       "      <td>2017-11-25</td>\n",
       "      <td>7</td>\n",
       "    </tr>\n",
       "    <tr>\n",
       "      <th>3</th>\n",
       "      <td>1</td>\n",
       "      <td>4365585</td>\n",
       "      <td>2520377</td>\n",
       "      <td>pv</td>\n",
       "      <td>1511596146</td>\n",
       "      <td>2017-11-25</td>\n",
       "      <td>7</td>\n",
       "    </tr>\n",
       "    <tr>\n",
       "      <th>4</th>\n",
       "      <td>1</td>\n",
       "      <td>4606018</td>\n",
       "      <td>2735466</td>\n",
       "      <td>pv</td>\n",
       "      <td>1511616481</td>\n",
       "      <td>2017-11-25</td>\n",
       "      <td>13</td>\n",
       "    </tr>\n",
       "  </tbody>\n",
       "</table>\n",
       "</div>"
      ],
      "text/plain": [
       "  user_id  item_id category_id behavior_type   timestamp        date  hour\n",
       "0       1  2333346     2520771            pv  1511561733  2017-11-24    22\n",
       "1       1  2576651      149192            pv  1511572885  2017-11-25     1\n",
       "2       1  3830808     4181361            pv  1511593493  2017-11-25     7\n",
       "3       1  4365585     2520377            pv  1511596146  2017-11-25     7\n",
       "4       1  4606018     2735466            pv  1511616481  2017-11-25    13"
      ]
     },
     "execution_count": 12,
     "metadata": {},
     "output_type": "execute_result"
    }
   ],
   "source": [
    "# 查看数据\n",
    "user_data.head()"
   ]
  },
  {
   "cell_type": "code",
   "execution_count": 13,
   "metadata": {},
   "outputs": [
    {
     "data": {
      "text/plain": [
       "user_id          object\n",
       "item_id          object\n",
       "category_id      object\n",
       "behavior_type    object\n",
       "timestamp        object\n",
       "date             object\n",
       "hour              int64\n",
       "dtype: object"
      ]
     },
     "execution_count": 13,
     "metadata": {},
     "output_type": "execute_result"
    }
   ],
   "source": [
    "# 查看数据的类型\n",
    "user_data.dtypes"
   ]
  },
  {
   "cell_type": "code",
   "execution_count": 14,
   "metadata": {},
   "outputs": [],
   "source": [
    "# 对数据按照日期进行排序\n",
    "user_data.sort_values(by='date', ascending=True, inplace=True)"
   ]
  },
  {
   "cell_type": "code",
   "execution_count": 15,
   "metadata": {},
   "outputs": [
    {
     "data": {
      "text/html": [
       "<div>\n",
       "<style scoped>\n",
       "    .dataframe tbody tr th:only-of-type {\n",
       "        vertical-align: middle;\n",
       "    }\n",
       "\n",
       "    .dataframe tbody tr th {\n",
       "        vertical-align: top;\n",
       "    }\n",
       "\n",
       "    .dataframe thead th {\n",
       "        text-align: right;\n",
       "    }\n",
       "</style>\n",
       "<table border=\"1\" class=\"dataframe\">\n",
       "  <thead>\n",
       "    <tr style=\"text-align: right;\">\n",
       "      <th></th>\n",
       "      <th>user_id</th>\n",
       "      <th>item_id</th>\n",
       "      <th>category_id</th>\n",
       "      <th>behavior_type</th>\n",
       "      <th>timestamp</th>\n",
       "      <th>date</th>\n",
       "      <th>hour</th>\n",
       "    </tr>\n",
       "  </thead>\n",
       "  <tbody>\n",
       "    <tr>\n",
       "      <th>4169</th>\n",
       "      <td>1000169</td>\n",
       "      <td>1328010</td>\n",
       "      <td>959452</td>\n",
       "      <td>pv</td>\n",
       "      <td>1505117799</td>\n",
       "      <td>2017-09-11</td>\n",
       "      <td>8</td>\n",
       "    </tr>\n",
       "    <tr>\n",
       "      <th>649770</th>\n",
       "      <td>112815</td>\n",
       "      <td>2489903</td>\n",
       "      <td>1487591</td>\n",
       "      <td>pv</td>\n",
       "      <td>1509965092</td>\n",
       "      <td>2017-11-06</td>\n",
       "      <td>10</td>\n",
       "    </tr>\n",
       "    <tr>\n",
       "      <th>544743</th>\n",
       "      <td>108233</td>\n",
       "      <td>4336503</td>\n",
       "      <td>3531700</td>\n",
       "      <td>pv</td>\n",
       "      <td>1510320815</td>\n",
       "      <td>2017-11-10</td>\n",
       "      <td>13</td>\n",
       "    </tr>\n",
       "    <tr>\n",
       "      <th>979960</th>\n",
       "      <td>12775</td>\n",
       "      <td>2897780</td>\n",
       "      <td>886203</td>\n",
       "      <td>pv</td>\n",
       "      <td>1510526244</td>\n",
       "      <td>2017-11-12</td>\n",
       "      <td>22</td>\n",
       "    </tr>\n",
       "    <tr>\n",
       "      <th>689595</th>\n",
       "      <td>114678</td>\n",
       "      <td>3662082</td>\n",
       "      <td>1080785</td>\n",
       "      <td>pv</td>\n",
       "      <td>1510467580</td>\n",
       "      <td>2017-11-12</td>\n",
       "      <td>6</td>\n",
       "    </tr>\n",
       "  </tbody>\n",
       "</table>\n",
       "</div>"
      ],
      "text/plain": [
       "        user_id  item_id category_id behavior_type   timestamp        date  \\\n",
       "4169    1000169  1328010      959452            pv  1505117799  2017-09-11   \n",
       "649770   112815  2489903     1487591            pv  1509965092  2017-11-06   \n",
       "544743   108233  4336503     3531700            pv  1510320815  2017-11-10   \n",
       "979960    12775  2897780      886203            pv  1510526244  2017-11-12   \n",
       "689595   114678  3662082     1080785            pv  1510467580  2017-11-12   \n",
       "\n",
       "        hour  \n",
       "4169       8  \n",
       "649770    10  \n",
       "544743    13  \n",
       "979960    22  \n",
       "689595     6  "
      ]
     },
     "execution_count": 15,
     "metadata": {},
     "output_type": "execute_result"
    }
   ],
   "source": [
    "# 查看首尾数据\n",
    "user_data.head()"
   ]
  },
  {
   "cell_type": "code",
   "execution_count": 16,
   "metadata": {},
   "outputs": [
    {
     "data": {
      "text/html": [
       "<div>\n",
       "<style scoped>\n",
       "    .dataframe tbody tr th:only-of-type {\n",
       "        vertical-align: middle;\n",
       "    }\n",
       "\n",
       "    .dataframe tbody tr th {\n",
       "        vertical-align: top;\n",
       "    }\n",
       "\n",
       "    .dataframe thead th {\n",
       "        text-align: right;\n",
       "    }\n",
       "</style>\n",
       "<table border=\"1\" class=\"dataframe\">\n",
       "  <thead>\n",
       "    <tr style=\"text-align: right;\">\n",
       "      <th></th>\n",
       "      <th>user_id</th>\n",
       "      <th>item_id</th>\n",
       "      <th>category_id</th>\n",
       "      <th>behavior_type</th>\n",
       "      <th>timestamp</th>\n",
       "      <th>date</th>\n",
       "      <th>hour</th>\n",
       "    </tr>\n",
       "  </thead>\n",
       "  <tbody>\n",
       "    <tr>\n",
       "      <th>264849</th>\n",
       "      <td>1011960</td>\n",
       "      <td>3859744</td>\n",
       "      <td>796856</td>\n",
       "      <td>pv</td>\n",
       "      <td>1512296867</td>\n",
       "      <td>2017-12-03</td>\n",
       "      <td>10</td>\n",
       "    </tr>\n",
       "    <tr>\n",
       "      <th>264850</th>\n",
       "      <td>1011960</td>\n",
       "      <td>4918494</td>\n",
       "      <td>4993094</td>\n",
       "      <td>pv</td>\n",
       "      <td>1512296892</td>\n",
       "      <td>2017-12-03</td>\n",
       "      <td>10</td>\n",
       "    </tr>\n",
       "    <tr>\n",
       "      <th>430362</th>\n",
       "      <td>103259</td>\n",
       "      <td>1801002</td>\n",
       "      <td>1879194</td>\n",
       "      <td>pv</td>\n",
       "      <td>1512311167</td>\n",
       "      <td>2017-12-03</td>\n",
       "      <td>14</td>\n",
       "    </tr>\n",
       "    <tr>\n",
       "      <th>170925</th>\n",
       "      <td>1007495</td>\n",
       "      <td>3520752</td>\n",
       "      <td>883960</td>\n",
       "      <td>pv</td>\n",
       "      <td>1512309641</td>\n",
       "      <td>2017-12-03</td>\n",
       "      <td>14</td>\n",
       "    </tr>\n",
       "    <tr>\n",
       "      <th>488408</th>\n",
       "      <td>105770</td>\n",
       "      <td>3914509</td>\n",
       "      <td>4227487</td>\n",
       "      <td>pv</td>\n",
       "      <td>1512308982</td>\n",
       "      <td>2017-12-03</td>\n",
       "      <td>13</td>\n",
       "    </tr>\n",
       "  </tbody>\n",
       "</table>\n",
       "</div>"
      ],
      "text/plain": [
       "        user_id  item_id category_id behavior_type   timestamp        date  \\\n",
       "264849  1011960  3859744      796856            pv  1512296867  2017-12-03   \n",
       "264850  1011960  4918494     4993094            pv  1512296892  2017-12-03   \n",
       "430362   103259  1801002     1879194            pv  1512311167  2017-12-03   \n",
       "170925  1007495  3520752      883960            pv  1512309641  2017-12-03   \n",
       "488408   105770  3914509     4227487            pv  1512308982  2017-12-03   \n",
       "\n",
       "        hour  \n",
       "264849    10  \n",
       "264850    10  \n",
       "430362    14  \n",
       "170925    14  \n",
       "488408    13  "
      ]
     },
     "execution_count": 16,
     "metadata": {},
     "output_type": "execute_result"
    }
   ],
   "source": [
    "user_data.tail()"
   ]
  },
  {
   "cell_type": "code",
   "execution_count": 17,
   "metadata": {},
   "outputs": [
    {
     "data": {
      "text/plain": [
       "array(['pv', 'fav', 'cart', 'buy'], dtype=object)"
      ]
     },
     "execution_count": 17,
     "metadata": {},
     "output_type": "execute_result"
    }
   ],
   "source": [
    "# 查看behavior_type的值\n",
    "user_data['behavior_type'].unique()"
   ]
  },
  {
   "cell_type": "code",
   "execution_count": 18,
   "metadata": {},
   "outputs": [
    {
     "data": {
      "text/plain": [
       "array([datetime.date(2017, 9, 11), datetime.date(2017, 11, 6),\n",
       "       datetime.date(2017, 11, 10), datetime.date(2017, 11, 12),\n",
       "       datetime.date(2017, 11, 13), datetime.date(2017, 11, 14),\n",
       "       datetime.date(2017, 11, 16), datetime.date(2017, 11, 17),\n",
       "       datetime.date(2017, 11, 18), datetime.date(2017, 11, 19),\n",
       "       datetime.date(2017, 11, 20), datetime.date(2017, 11, 21),\n",
       "       datetime.date(2017, 11, 22), datetime.date(2017, 11, 23),\n",
       "       datetime.date(2017, 11, 24), datetime.date(2017, 11, 25),\n",
       "       datetime.date(2017, 11, 26), datetime.date(2017, 11, 27),\n",
       "       datetime.date(2017, 11, 28), datetime.date(2017, 11, 29),\n",
       "       datetime.date(2017, 11, 30), datetime.date(2017, 12, 1),\n",
       "       datetime.date(2017, 12, 2), datetime.date(2017, 12, 3)],\n",
       "      dtype=object)"
      ]
     },
     "execution_count": 18,
     "metadata": {},
     "output_type": "execute_result"
    }
   ],
   "source": [
    "# 查看date的值\n",
    "user_data['date'].unique()"
   ]
  },
  {
   "cell_type": "code",
   "execution_count": 19,
   "metadata": {},
   "outputs": [],
   "source": [
    "# 对上文按照日期排序的数据按位置重新生成索引\n",
    "user_data.reset_index(drop=True, inplace=True)"
   ]
  },
  {
   "cell_type": "code",
   "execution_count": 20,
   "metadata": {},
   "outputs": [
    {
     "data": {
      "text/html": [
       "<div>\n",
       "<style scoped>\n",
       "    .dataframe tbody tr th:only-of-type {\n",
       "        vertical-align: middle;\n",
       "    }\n",
       "\n",
       "    .dataframe tbody tr th {\n",
       "        vertical-align: top;\n",
       "    }\n",
       "\n",
       "    .dataframe thead th {\n",
       "        text-align: right;\n",
       "    }\n",
       "</style>\n",
       "<table border=\"1\" class=\"dataframe\">\n",
       "  <thead>\n",
       "    <tr style=\"text-align: right;\">\n",
       "      <th></th>\n",
       "      <th>user_id</th>\n",
       "      <th>item_id</th>\n",
       "      <th>category_id</th>\n",
       "      <th>behavior_type</th>\n",
       "      <th>timestamp</th>\n",
       "      <th>date</th>\n",
       "      <th>hour</th>\n",
       "    </tr>\n",
       "  </thead>\n",
       "  <tbody>\n",
       "    <tr>\n",
       "      <th>0</th>\n",
       "      <td>1000169</td>\n",
       "      <td>1328010</td>\n",
       "      <td>959452</td>\n",
       "      <td>pv</td>\n",
       "      <td>1505117799</td>\n",
       "      <td>2017-09-11</td>\n",
       "      <td>8</td>\n",
       "    </tr>\n",
       "    <tr>\n",
       "      <th>1</th>\n",
       "      <td>112815</td>\n",
       "      <td>2489903</td>\n",
       "      <td>1487591</td>\n",
       "      <td>pv</td>\n",
       "      <td>1509965092</td>\n",
       "      <td>2017-11-06</td>\n",
       "      <td>10</td>\n",
       "    </tr>\n",
       "    <tr>\n",
       "      <th>2</th>\n",
       "      <td>108233</td>\n",
       "      <td>4336503</td>\n",
       "      <td>3531700</td>\n",
       "      <td>pv</td>\n",
       "      <td>1510320815</td>\n",
       "      <td>2017-11-10</td>\n",
       "      <td>13</td>\n",
       "    </tr>\n",
       "    <tr>\n",
       "      <th>3</th>\n",
       "      <td>12775</td>\n",
       "      <td>2897780</td>\n",
       "      <td>886203</td>\n",
       "      <td>pv</td>\n",
       "      <td>1510526244</td>\n",
       "      <td>2017-11-12</td>\n",
       "      <td>22</td>\n",
       "    </tr>\n",
       "    <tr>\n",
       "      <th>4</th>\n",
       "      <td>114678</td>\n",
       "      <td>3662082</td>\n",
       "      <td>1080785</td>\n",
       "      <td>pv</td>\n",
       "      <td>1510467580</td>\n",
       "      <td>2017-11-12</td>\n",
       "      <td>6</td>\n",
       "    </tr>\n",
       "  </tbody>\n",
       "</table>\n",
       "</div>"
      ],
      "text/plain": [
       "   user_id  item_id category_id behavior_type   timestamp        date  hour\n",
       "0  1000169  1328010      959452            pv  1505117799  2017-09-11     8\n",
       "1   112815  2489903     1487591            pv  1509965092  2017-11-06    10\n",
       "2   108233  4336503     3531700            pv  1510320815  2017-11-10    13\n",
       "3    12775  2897780      886203            pv  1510526244  2017-11-12    22\n",
       "4   114678  3662082     1080785            pv  1510467580  2017-11-12     6"
      ]
     },
     "execution_count": 20,
     "metadata": {},
     "output_type": "execute_result"
    }
   ],
   "source": [
    "user_data.head()"
   ]
  },
  {
   "cell_type": "code",
   "execution_count": 21,
   "metadata": {},
   "outputs": [
    {
     "data": {
      "text/html": [
       "<div>\n",
       "<style scoped>\n",
       "    .dataframe tbody tr th:only-of-type {\n",
       "        vertical-align: middle;\n",
       "    }\n",
       "\n",
       "    .dataframe tbody tr th {\n",
       "        vertical-align: top;\n",
       "    }\n",
       "\n",
       "    .dataframe thead th {\n",
       "        text-align: right;\n",
       "    }\n",
       "</style>\n",
       "<table border=\"1\" class=\"dataframe\">\n",
       "  <thead>\n",
       "    <tr style=\"text-align: right;\">\n",
       "      <th></th>\n",
       "      <th>user_id</th>\n",
       "      <th>item_id</th>\n",
       "      <th>category_id</th>\n",
       "      <th>behavior_type</th>\n",
       "      <th>timestamp</th>\n",
       "      <th>date</th>\n",
       "      <th>hour</th>\n",
       "    </tr>\n",
       "  </thead>\n",
       "  <tbody>\n",
       "    <tr>\n",
       "      <th>999995</th>\n",
       "      <td>1011960</td>\n",
       "      <td>3859744</td>\n",
       "      <td>796856</td>\n",
       "      <td>pv</td>\n",
       "      <td>1512296867</td>\n",
       "      <td>2017-12-03</td>\n",
       "      <td>10</td>\n",
       "    </tr>\n",
       "    <tr>\n",
       "      <th>999996</th>\n",
       "      <td>1011960</td>\n",
       "      <td>4918494</td>\n",
       "      <td>4993094</td>\n",
       "      <td>pv</td>\n",
       "      <td>1512296892</td>\n",
       "      <td>2017-12-03</td>\n",
       "      <td>10</td>\n",
       "    </tr>\n",
       "    <tr>\n",
       "      <th>999997</th>\n",
       "      <td>103259</td>\n",
       "      <td>1801002</td>\n",
       "      <td>1879194</td>\n",
       "      <td>pv</td>\n",
       "      <td>1512311167</td>\n",
       "      <td>2017-12-03</td>\n",
       "      <td>14</td>\n",
       "    </tr>\n",
       "    <tr>\n",
       "      <th>999998</th>\n",
       "      <td>1007495</td>\n",
       "      <td>3520752</td>\n",
       "      <td>883960</td>\n",
       "      <td>pv</td>\n",
       "      <td>1512309641</td>\n",
       "      <td>2017-12-03</td>\n",
       "      <td>14</td>\n",
       "    </tr>\n",
       "    <tr>\n",
       "      <th>999999</th>\n",
       "      <td>105770</td>\n",
       "      <td>3914509</td>\n",
       "      <td>4227487</td>\n",
       "      <td>pv</td>\n",
       "      <td>1512308982</td>\n",
       "      <td>2017-12-03</td>\n",
       "      <td>13</td>\n",
       "    </tr>\n",
       "  </tbody>\n",
       "</table>\n",
       "</div>"
      ],
      "text/plain": [
       "        user_id  item_id category_id behavior_type   timestamp        date  \\\n",
       "999995  1011960  3859744      796856            pv  1512296867  2017-12-03   \n",
       "999996  1011960  4918494     4993094            pv  1512296892  2017-12-03   \n",
       "999997   103259  1801002     1879194            pv  1512311167  2017-12-03   \n",
       "999998  1007495  3520752      883960            pv  1512309641  2017-12-03   \n",
       "999999   105770  3914509     4227487            pv  1512308982  2017-12-03   \n",
       "\n",
       "        hour  \n",
       "999995    10  \n",
       "999996    10  \n",
       "999997    14  \n",
       "999998    14  \n",
       "999999    13  "
      ]
     },
     "execution_count": 21,
     "metadata": {},
     "output_type": "execute_result"
    }
   ],
   "source": [
    "user_data.tail()"
   ]
  },
  {
   "cell_type": "code",
   "execution_count": 23,
   "metadata": {},
   "outputs": [
    {
     "data": {
      "text/html": [
       "<div>\n",
       "<style scoped>\n",
       "    .dataframe tbody tr th:only-of-type {\n",
       "        vertical-align: middle;\n",
       "    }\n",
       "\n",
       "    .dataframe tbody tr th {\n",
       "        vertical-align: top;\n",
       "    }\n",
       "\n",
       "    .dataframe thead th {\n",
       "        text-align: right;\n",
       "    }\n",
       "</style>\n",
       "<table border=\"1\" class=\"dataframe\">\n",
       "  <thead>\n",
       "    <tr style=\"text-align: right;\">\n",
       "      <th></th>\n",
       "      <th>user_id</th>\n",
       "      <th>item_id</th>\n",
       "      <th>category_id</th>\n",
       "      <th>behavior_type</th>\n",
       "      <th>timestamp</th>\n",
       "      <th>date</th>\n",
       "    </tr>\n",
       "  </thead>\n",
       "  <tbody>\n",
       "    <tr>\n",
       "      <th>count</th>\n",
       "      <td>1000000</td>\n",
       "      <td>1000000</td>\n",
       "      <td>1000000</td>\n",
       "      <td>1000000</td>\n",
       "      <td>1000000</td>\n",
       "      <td>1000000</td>\n",
       "    </tr>\n",
       "    <tr>\n",
       "      <th>unique</th>\n",
       "      <td>9739</td>\n",
       "      <td>399115</td>\n",
       "      <td>5796</td>\n",
       "      <td>4</td>\n",
       "      <td>499049</td>\n",
       "      <td>24</td>\n",
       "    </tr>\n",
       "    <tr>\n",
       "      <th>top</th>\n",
       "      <td>115477</td>\n",
       "      <td>812879</td>\n",
       "      <td>4756105</td>\n",
       "      <td>pv</td>\n",
       "      <td>1512206464</td>\n",
       "      <td>2017-12-02</td>\n",
       "    </tr>\n",
       "    <tr>\n",
       "      <th>freq</th>\n",
       "      <td>781</td>\n",
       "      <td>304</td>\n",
       "      <td>51877</td>\n",
       "      <td>896106</td>\n",
       "      <td>27</td>\n",
       "      <td>139436</td>\n",
       "    </tr>\n",
       "  </tbody>\n",
       "</table>\n",
       "</div>"
      ],
      "text/plain": [
       "        user_id  item_id category_id behavior_type   timestamp        date\n",
       "count   1000000  1000000     1000000       1000000     1000000     1000000\n",
       "unique     9739   399115        5796             4      499049          24\n",
       "top      115477   812879     4756105            pv  1512206464  2017-12-02\n",
       "freq        781      304       51877        896106          27      139436"
      ]
     },
     "execution_count": 23,
     "metadata": {},
     "output_type": "execute_result"
    }
   ],
   "source": [
    "# 查看数据的描述性统计信息\n",
    "user_data.describe(include = ['object'])"
   ]
  },
  {
   "cell_type": "code",
   "execution_count": 25,
   "metadata": {},
   "outputs": [
    {
     "data": {
      "text/html": [
       "<div>\n",
       "<style scoped>\n",
       "    .dataframe tbody tr th:only-of-type {\n",
       "        vertical-align: middle;\n",
       "    }\n",
       "\n",
       "    .dataframe tbody tr th {\n",
       "        vertical-align: top;\n",
       "    }\n",
       "\n",
       "    .dataframe thead th {\n",
       "        text-align: right;\n",
       "    }\n",
       "</style>\n",
       "<table border=\"1\" class=\"dataframe\">\n",
       "  <thead>\n",
       "    <tr style=\"text-align: right;\">\n",
       "      <th></th>\n",
       "      <th>user_id</th>\n",
       "      <th>item_id</th>\n",
       "      <th>category_id</th>\n",
       "      <th>behavior_type</th>\n",
       "      <th>timestamp</th>\n",
       "      <th>date</th>\n",
       "      <th>hour</th>\n",
       "    </tr>\n",
       "  </thead>\n",
       "  <tbody>\n",
       "    <tr>\n",
       "      <th>11351</th>\n",
       "      <td>115477</td>\n",
       "      <td>3147125</td>\n",
       "      <td>2558244</td>\n",
       "      <td>pv</td>\n",
       "      <td>1511539585</td>\n",
       "      <td>2017-11-24</td>\n",
       "      <td>16</td>\n",
       "    </tr>\n",
       "    <tr>\n",
       "      <th>11407</th>\n",
       "      <td>115477</td>\n",
       "      <td>4601734</td>\n",
       "      <td>2558244</td>\n",
       "      <td>pv</td>\n",
       "      <td>1511566549</td>\n",
       "      <td>2017-11-24</td>\n",
       "      <td>23</td>\n",
       "    </tr>\n",
       "    <tr>\n",
       "      <th>11408</th>\n",
       "      <td>115477</td>\n",
       "      <td>2188021</td>\n",
       "      <td>2558244</td>\n",
       "      <td>pv</td>\n",
       "      <td>1511566543</td>\n",
       "      <td>2017-11-24</td>\n",
       "      <td>23</td>\n",
       "    </tr>\n",
       "    <tr>\n",
       "      <th>11409</th>\n",
       "      <td>115477</td>\n",
       "      <td>4108973</td>\n",
       "      <td>3738615</td>\n",
       "      <td>pv</td>\n",
       "      <td>1511566467</td>\n",
       "      <td>2017-11-24</td>\n",
       "      <td>23</td>\n",
       "    </tr>\n",
       "    <tr>\n",
       "      <th>11411</th>\n",
       "      <td>115477</td>\n",
       "      <td>2939327</td>\n",
       "      <td>3738615</td>\n",
       "      <td>pv</td>\n",
       "      <td>1511566422</td>\n",
       "      <td>2017-11-24</td>\n",
       "      <td>23</td>\n",
       "    </tr>\n",
       "    <tr>\n",
       "      <th>...</th>\n",
       "      <td>...</td>\n",
       "      <td>...</td>\n",
       "      <td>...</td>\n",
       "      <td>...</td>\n",
       "      <td>...</td>\n",
       "      <td>...</td>\n",
       "      <td>...</td>\n",
       "    </tr>\n",
       "    <tr>\n",
       "      <th>925703</th>\n",
       "      <td>115477</td>\n",
       "      <td>5067429</td>\n",
       "      <td>2735466</td>\n",
       "      <td>pv</td>\n",
       "      <td>1512312888</td>\n",
       "      <td>2017-12-03</td>\n",
       "      <td>14</td>\n",
       "    </tr>\n",
       "    <tr>\n",
       "      <th>925704</th>\n",
       "      <td>115477</td>\n",
       "      <td>1365259</td>\n",
       "      <td>2735466</td>\n",
       "      <td>pv</td>\n",
       "      <td>1512312897</td>\n",
       "      <td>2017-12-03</td>\n",
       "      <td>14</td>\n",
       "    </tr>\n",
       "    <tr>\n",
       "      <th>925705</th>\n",
       "      <td>115477</td>\n",
       "      <td>1031525</td>\n",
       "      <td>2735466</td>\n",
       "      <td>pv</td>\n",
       "      <td>1512312910</td>\n",
       "      <td>2017-12-03</td>\n",
       "      <td>14</td>\n",
       "    </tr>\n",
       "    <tr>\n",
       "      <th>925706</th>\n",
       "      <td>115477</td>\n",
       "      <td>2544318</td>\n",
       "      <td>2735466</td>\n",
       "      <td>pv</td>\n",
       "      <td>1512312948</td>\n",
       "      <td>2017-12-03</td>\n",
       "      <td>14</td>\n",
       "    </tr>\n",
       "    <tr>\n",
       "      <th>925707</th>\n",
       "      <td>115477</td>\n",
       "      <td>4405266</td>\n",
       "      <td>2735466</td>\n",
       "      <td>pv</td>\n",
       "      <td>1512312963</td>\n",
       "      <td>2017-12-03</td>\n",
       "      <td>14</td>\n",
       "    </tr>\n",
       "  </tbody>\n",
       "</table>\n",
       "<p>781 rows × 7 columns</p>\n",
       "</div>"
      ],
      "text/plain": [
       "       user_id  item_id category_id behavior_type   timestamp        date  \\\n",
       "11351   115477  3147125     2558244            pv  1511539585  2017-11-24   \n",
       "11407   115477  4601734     2558244            pv  1511566549  2017-11-24   \n",
       "11408   115477  2188021     2558244            pv  1511566543  2017-11-24   \n",
       "11409   115477  4108973     3738615            pv  1511566467  2017-11-24   \n",
       "11411   115477  2939327     3738615            pv  1511566422  2017-11-24   \n",
       "...        ...      ...         ...           ...         ...         ...   \n",
       "925703  115477  5067429     2735466            pv  1512312888  2017-12-03   \n",
       "925704  115477  1365259     2735466            pv  1512312897  2017-12-03   \n",
       "925705  115477  1031525     2735466            pv  1512312910  2017-12-03   \n",
       "925706  115477  2544318     2735466            pv  1512312948  2017-12-03   \n",
       "925707  115477  4405266     2735466            pv  1512312963  2017-12-03   \n",
       "\n",
       "        hour  \n",
       "11351     16  \n",
       "11407     23  \n",
       "11408     23  \n",
       "11409     23  \n",
       "11411     23  \n",
       "...      ...  \n",
       "925703    14  \n",
       "925704    14  \n",
       "925705    14  \n",
       "925706    14  \n",
       "925707    14  \n",
       "\n",
       "[781 rows x 7 columns]"
      ]
     },
     "execution_count": 25,
     "metadata": {},
     "output_type": "execute_result"
    }
   ],
   "source": [
    "# 根据描述性信息发现，user_id为115477的用户行为最多，可能是刷单用户\n",
    "user_data[user_data['user_id'] == '115477']"
   ]
  },
  {
   "attachments": {},
   "cell_type": "markdown",
   "metadata": {},
   "source": [
    "## 计算PV和UV"
   ]
  },
  {
   "attachments": {},
   "cell_type": "markdown",
   "metadata": {},
   "source": [
    "### 计算PV\n",
    "PV是指页面浏览量，即页面被访问的次数。PV是衡量网站流量大小的重要指标。"
   ]
  },
  {
   "cell_type": "code",
   "execution_count": 27,
   "metadata": {},
   "outputs": [
    {
     "data": {
      "text/plain": [
       "count        24.000000\n",
       "mean      37337.750000\n",
       "std       48784.736916\n",
       "min           1.000000\n",
       "25%           1.750000\n",
       "50%          12.500000\n",
       "75%       92316.500000\n",
       "max      125130.000000\n",
       "Name: user_id, dtype: float64"
      ]
     },
     "execution_count": 27,
     "metadata": {},
     "output_type": "execute_result"
    }
   ],
   "source": [
    "pv_daily = user_data[user_data['behavior_type'] == 'pv'].groupby('date')['user_id'].count()\n",
    "# 查看pv_daily\n",
    "pv_daily.describe()"
   ]
  },
  {
   "cell_type": "code",
   "execution_count": 28,
   "metadata": {},
   "outputs": [
    {
     "data": {
      "text/plain": [
       "date\n",
       "2017-09-11         1\n",
       "2017-11-06         1\n",
       "2017-11-10         1\n",
       "2017-11-12         2\n",
       "2017-11-13         1\n",
       "2017-11-14         1\n",
       "2017-11-16         2\n",
       "2017-11-17         5\n",
       "2017-11-18         4\n",
       "2017-11-19         5\n",
       "2017-11-20         1\n",
       "2017-11-21        12\n",
       "2017-11-22        13\n",
       "2017-11-23        47\n",
       "2017-11-24     11329\n",
       "2017-11-25     94656\n",
       "2017-11-26     94037\n",
       "2017-11-27     87329\n",
       "2017-11-28     88913\n",
       "2017-11-29     91743\n",
       "2017-11-30     94533\n",
       "2017-12-01    100934\n",
       "2017-12-02    125130\n",
       "2017-12-03    107406\n",
       "Name: pv, dtype: int64"
      ]
     },
     "execution_count": 28,
     "metadata": {},
     "output_type": "execute_result"
    }
   ],
   "source": [
    "# 重命名列名\n",
    "pv_daily.rename('pv', inplace=True)"
   ]
  },
  {
   "attachments": {},
   "cell_type": "markdown",
   "metadata": {},
   "source": [
    "### 计算UV\n",
    "UV是指访问网站的独立IP数，即访问网站的不同用户数。UV是衡量网站流量质量的重要指标。"
   ]
  },
  {
   "cell_type": "code",
   "execution_count": 29,
   "metadata": {},
   "outputs": [
    {
     "data": {
      "text/plain": [
       "count      24.000000\n",
       "mean     2841.125000\n",
       "std      3638.493552\n",
       "min         1.000000\n",
       "25%         1.750000\n",
       "50%         9.500000\n",
       "75%      6840.250000\n",
       "max      9029.000000\n",
       "Name: user_id, dtype: float64"
      ]
     },
     "execution_count": 29,
     "metadata": {},
     "output_type": "execute_result"
    }
   ],
   "source": [
    "uv_daily = user_data[user_data['behavior_type'] == 'pv'].groupby('date')['user_id'].nunique()\n",
    "# 查看uv_daily\n",
    "uv_daily.describe()"
   ]
  },
  {
   "cell_type": "code",
   "execution_count": 30,
   "metadata": {},
   "outputs": [
    {
     "data": {
      "text/plain": [
       "date\n",
       "2017-09-11       1\n",
       "2017-11-06       1\n",
       "2017-11-10       1\n",
       "2017-11-12       2\n",
       "2017-11-13       1\n",
       "2017-11-14       1\n",
       "2017-11-16       2\n",
       "2017-11-17       2\n",
       "2017-11-18       4\n",
       "2017-11-19       5\n",
       "2017-11-20       1\n",
       "2017-11-21      10\n",
       "2017-11-22       9\n",
       "2017-11-23      33\n",
       "2017-11-24    1801\n",
       "2017-11-25    6785\n",
       "2017-11-26    6922\n",
       "2017-11-27    6809\n",
       "2017-11-28    6813\n",
       "2017-11-29    6943\n",
       "2017-11-30    7010\n",
       "2017-12-01    7182\n",
       "2017-12-02    9029\n",
       "2017-12-03    8820\n",
       "Name: uv, dtype: int64"
      ]
     },
     "execution_count": 30,
     "metadata": {},
     "output_type": "execute_result"
    }
   ],
   "source": [
    "# 重命名列名\n",
    "uv_daily.rename('uv', inplace=True)"
   ]
  },
  {
   "cell_type": "code",
   "execution_count": 31,
   "metadata": {},
   "outputs": [],
   "source": [
    "# 将pv_daily和uv_daily合并\n",
    "pv_uv_daily = pd.concat([pv_daily, uv_daily], axis=1)"
   ]
  },
  {
   "cell_type": "code",
   "execution_count": 32,
   "metadata": {},
   "outputs": [
    {
     "data": {
      "text/html": [
       "<div>\n",
       "<style scoped>\n",
       "    .dataframe tbody tr th:only-of-type {\n",
       "        vertical-align: middle;\n",
       "    }\n",
       "\n",
       "    .dataframe tbody tr th {\n",
       "        vertical-align: top;\n",
       "    }\n",
       "\n",
       "    .dataframe thead th {\n",
       "        text-align: right;\n",
       "    }\n",
       "</style>\n",
       "<table border=\"1\" class=\"dataframe\">\n",
       "  <thead>\n",
       "    <tr style=\"text-align: right;\">\n",
       "      <th></th>\n",
       "      <th>pv</th>\n",
       "      <th>uv</th>\n",
       "    </tr>\n",
       "    <tr>\n",
       "      <th>date</th>\n",
       "      <th></th>\n",
       "      <th></th>\n",
       "    </tr>\n",
       "  </thead>\n",
       "  <tbody>\n",
       "    <tr>\n",
       "      <th>2017-09-11</th>\n",
       "      <td>1</td>\n",
       "      <td>1</td>\n",
       "    </tr>\n",
       "    <tr>\n",
       "      <th>2017-11-06</th>\n",
       "      <td>1</td>\n",
       "      <td>1</td>\n",
       "    </tr>\n",
       "    <tr>\n",
       "      <th>2017-11-10</th>\n",
       "      <td>1</td>\n",
       "      <td>1</td>\n",
       "    </tr>\n",
       "    <tr>\n",
       "      <th>2017-11-12</th>\n",
       "      <td>2</td>\n",
       "      <td>2</td>\n",
       "    </tr>\n",
       "    <tr>\n",
       "      <th>2017-11-13</th>\n",
       "      <td>1</td>\n",
       "      <td>1</td>\n",
       "    </tr>\n",
       "  </tbody>\n",
       "</table>\n",
       "</div>"
      ],
      "text/plain": [
       "            pv  uv\n",
       "date              \n",
       "2017-09-11   1   1\n",
       "2017-11-06   1   1\n",
       "2017-11-10   1   1\n",
       "2017-11-12   2   2\n",
       "2017-11-13   1   1"
      ]
     },
     "execution_count": 32,
     "metadata": {},
     "output_type": "execute_result"
    }
   ],
   "source": [
    "# 查看pv_uv_daily\n",
    "pv_uv_daily.head()"
   ]
  },
  {
   "cell_type": "code",
   "execution_count": 33,
   "metadata": {},
   "outputs": [],
   "source": [
    "# 保存pv_uv_daily\n",
    "pv_uv_daily.to_csv('data/pv_uv_daily.csv')"
   ]
  },
  {
   "cell_type": "code",
   "execution_count": 34,
   "metadata": {},
   "outputs": [
    {
     "data": {
      "text/plain": [
       "<seaborn.axisgrid.PairGrid at 0x28c6f623b80>"
      ]
     },
     "execution_count": 34,
     "metadata": {},
     "output_type": "execute_result"
    },
    {
     "data": {
      "image/png": "[encoded data removed]",
      "text/plain": [
       "<Figure size 500x500 with 6 Axes>"
      ]
     },
     "metadata": {},
     "output_type": "display_data"
    }
   ],
   "source": [
    "# 查看pv_uv_daily的关系\n",
    "sns.pairplot(pv_uv_daily)"
   ]
  },
  {
   "cell_type": "code",
   "execution_count": 35,
   "metadata": {},
   "outputs": [
    {
     "data": {
      "text/html": [
       "<div>\n",
       "<style scoped>\n",
       "    .dataframe tbody tr th:only-of-type {\n",
       "        vertical-align: middle;\n",
       "    }\n",
       "\n",
       "    .dataframe tbody tr th {\n",
       "        vertical-align: top;\n",
       "    }\n",
       "\n",
       "    .dataframe thead th {\n",
       "        text-align: right;\n",
       "    }\n",
       "</style>\n",
       "<table border=\"1\" class=\"dataframe\">\n",
       "  <thead>\n",
       "    <tr style=\"text-align: right;\">\n",
       "      <th></th>\n",
       "      <th>pv</th>\n",
       "      <th>uv</th>\n",
       "    </tr>\n",
       "  </thead>\n",
       "  <tbody>\n",
       "    <tr>\n",
       "      <th>pv</th>\n",
       "      <td>1.000000</td>\n",
       "      <td>0.996844</td>\n",
       "    </tr>\n",
       "    <tr>\n",
       "      <th>uv</th>\n",
       "      <td>0.996844</td>\n",
       "      <td>1.000000</td>\n",
       "    </tr>\n",
       "  </tbody>\n",
       "</table>\n",
       "</div>"
      ],
      "text/plain": [
       "          pv        uv\n",
       "pv  1.000000  0.996844\n",
       "uv  0.996844  1.000000"
      ]
     },
     "execution_count": 35,
     "metadata": {},
     "output_type": "execute_result"
    }
   ],
   "source": [
    "# 查看pv_uv_daily的相关性\n",
    "pv_uv_daily.corr(method='pearson')"
   ]
  },
  {
   "cell_type": "code",
   "execution_count": 39,
   "metadata": {},
   "outputs": [
    {
     "data": {
      "text/plain": [
       "<Axes: >"
      ]
     },
     "execution_count": 39,
     "metadata": {},
     "output_type": "execute_result"
    },
    {
     "data": {
      "image/png": "[encoded data removed]",
      "text/plain": [
       "<Figure size 640x480 with 2 Axes>"
      ]
     },
     "metadata": {},
     "output_type": "display_data"
    }
   ],
   "source": [
    "# 绘制pv_uv_daily的相关性热力图\n",
    "sns.heatmap(pv_uv_daily.corr(method='pearson'), annot=True, cmap='RdYlGn', linewidths=0.2)"
   ]
  },
  {
   "cell_type": "code",
   "execution_count": 42,
   "metadata": {},
   "outputs": [
    {
     "data": {
      "text/plain": [
       "<Axes: xlabel='date'>"
      ]
     },
     "execution_count": 42,
     "metadata": {},
     "output_type": "execute_result"
    },
    {
     "data": {
      "image/png": "[encoded data removed]",
      "text/plain": [
       "<Figure size 1500x500 with 1 Axes>"
      ]
     },
     "metadata": {},
     "output_type": "display_data"
    }
   ],
   "source": [
    "# 绘制pv_uv_daily的折线图\n",
    "pv_uv_daily.plot(figsize=(15, 5))"
   ]
  },
  {
   "attachments": {},
   "cell_type": "markdown",
   "metadata": {},
   "source": [
    "### 从小时级别的数据中计算PV和UV"
   ]
  },
  {
   "cell_type": "code",
   "execution_count": 43,
   "metadata": {},
   "outputs": [],
   "source": [
    "pv_hourly = user_data[user_data['behavior_type'] == 'pv'].groupby('hour')['user_id'].count()"
   ]
  },
  {
   "cell_type": "code",
   "execution_count": 44,
   "metadata": {},
   "outputs": [
    {
     "data": {
      "text/plain": [
       "hour\n",
       "0     30021\n",
       "1     37190\n",
       "2     43656\n",
       "3     42710\n",
       "4     42179\n",
       "5     46470\n",
       "6     45939\n",
       "7     47262\n",
       "8     46905\n",
       "9     41433\n",
       "10    42937\n",
       "11    55057\n",
       "12    65447\n",
       "13    75094\n",
       "14    74749\n",
       "15    55847\n",
       "16    30397\n",
       "17    13855\n",
       "18     7986\n",
       "19     5636\n",
       "20     4970\n",
       "21     6060\n",
       "22    12074\n",
       "23    22232\n",
       "Name: pv, dtype: int64"
      ]
     },
     "execution_count": 44,
     "metadata": {},
     "output_type": "execute_result"
    }
   ],
   "source": [
    "pv_hourly.rename('pv', inplace=True)"
   ]
  },
  {
   "cell_type": "code",
   "execution_count": 45,
   "metadata": {},
   "outputs": [],
   "source": [
    "uv_hourly = user_data[user_data['behavior_type'] == 'pv'].groupby('hour')['user_id'].nunique()"
   ]
  },
  {
   "cell_type": "code",
   "execution_count": 46,
   "metadata": {},
   "outputs": [
    {
     "data": {
      "text/plain": [
       "hour\n",
       "0     4170\n",
       "1     4937\n",
       "2     5484\n",
       "3     5560\n",
       "4     5599\n",
       "5     5799\n",
       "6     5651\n",
       "7     5771\n",
       "8     5748\n",
       "9     5525\n",
       "10    5471\n",
       "11    6010\n",
       "12    6334\n",
       "13    6523\n",
       "14    6242\n",
       "15    4894\n",
       "16    2984\n",
       "17    1558\n",
       "18     943\n",
       "19     674\n",
       "20     604\n",
       "21     825\n",
       "22    1684\n",
       "23    3121\n",
       "Name: uv, dtype: int64"
      ]
     },
     "execution_count": 46,
     "metadata": {},
     "output_type": "execute_result"
    }
   ],
   "source": [
    "# 重命名列名\n",
    "uv_hourly.rename('uv', inplace=True)"
   ]
  },
  {
   "cell_type": "code",
   "execution_count": 47,
   "metadata": {},
   "outputs": [],
   "source": [
    "# 将pv_hourly和uv_hourly合并\n",
    "pv_uv_hourly = pd.concat([pv_hourly, uv_hourly], axis=1)"
   ]
  },
  {
   "cell_type": "code",
   "execution_count": 48,
   "metadata": {},
   "outputs": [
    {
     "data": {
      "text/html": [
       "<div>\n",
       "<style scoped>\n",
       "    .dataframe tbody tr th:only-of-type {\n",
       "        vertical-align: middle;\n",
       "    }\n",
       "\n",
       "    .dataframe tbody tr th {\n",
       "        vertical-align: top;\n",
       "    }\n",
       "\n",
       "    .dataframe thead th {\n",
       "        text-align: right;\n",
       "    }\n",
       "</style>\n",
       "<table border=\"1\" class=\"dataframe\">\n",
       "  <thead>\n",
       "    <tr style=\"text-align: right;\">\n",
       "      <th></th>\n",
       "      <th>pv</th>\n",
       "      <th>uv</th>\n",
       "    </tr>\n",
       "    <tr>\n",
       "      <th>hour</th>\n",
       "      <th></th>\n",
       "      <th></th>\n",
       "    </tr>\n",
       "  </thead>\n",
       "  <tbody>\n",
       "    <tr>\n",
       "      <th>0</th>\n",
       "      <td>30021</td>\n",
       "      <td>4170</td>\n",
       "    </tr>\n",
       "    <tr>\n",
       "      <th>1</th>\n",
       "      <td>37190</td>\n",
       "      <td>4937</td>\n",
       "    </tr>\n",
       "    <tr>\n",
       "      <th>2</th>\n",
       "      <td>43656</td>\n",
       "      <td>5484</td>\n",
       "    </tr>\n",
       "    <tr>\n",
       "      <th>3</th>\n",
       "      <td>42710</td>\n",
       "      <td>5560</td>\n",
       "    </tr>\n",
       "    <tr>\n",
       "      <th>4</th>\n",
       "      <td>42179</td>\n",
       "      <td>5599</td>\n",
       "    </tr>\n",
       "  </tbody>\n",
       "</table>\n",
       "</div>"
      ],
      "text/plain": [
       "         pv    uv\n",
       "hour             \n",
       "0     30021  4170\n",
       "1     37190  4937\n",
       "2     43656  5484\n",
       "3     42710  5560\n",
       "4     42179  5599"
      ]
     },
     "execution_count": 48,
     "metadata": {},
     "output_type": "execute_result"
    }
   ],
   "source": [
    "# 查看pv_uv_hourly\n",
    "pv_uv_hourly.head()"
   ]
  },
  {
   "cell_type": "code",
   "execution_count": 49,
   "metadata": {},
   "outputs": [],
   "source": [
    "# 保存pv_uv_hourly\n",
    "pv_uv_hourly.to_csv('data/pv_uv_hourly.csv')"
   ]
  },
  {
   "cell_type": "code",
   "execution_count": 50,
   "metadata": {},
   "outputs": [
    {
     "data": {
      "text/html": [
       "<div>\n",
       "<style scoped>\n",
       "    .dataframe tbody tr th:only-of-type {\n",
       "        vertical-align: middle;\n",
       "    }\n",
       "\n",
       "    .dataframe tbody tr th {\n",
       "        vertical-align: top;\n",
       "    }\n",
       "\n",
       "    .dataframe thead th {\n",
       "        text-align: right;\n",
       "    }\n",
       "</style>\n",
       "<table border=\"1\" class=\"dataframe\">\n",
       "  <thead>\n",
       "    <tr style=\"text-align: right;\">\n",
       "      <th></th>\n",
       "      <th>pv</th>\n",
       "      <th>uv</th>\n",
       "    </tr>\n",
       "  </thead>\n",
       "  <tbody>\n",
       "    <tr>\n",
       "      <th>pv</th>\n",
       "      <td>1.000000</td>\n",
       "      <td>0.932948</td>\n",
       "    </tr>\n",
       "    <tr>\n",
       "      <th>uv</th>\n",
       "      <td>0.932948</td>\n",
       "      <td>1.000000</td>\n",
       "    </tr>\n",
       "  </tbody>\n",
       "</table>\n",
       "</div>"
      ],
      "text/plain": [
       "          pv        uv\n",
       "pv  1.000000  0.932948\n",
       "uv  0.932948  1.000000"
      ]
     },
     "execution_count": 50,
     "metadata": {},
     "output_type": "execute_result"
    }
   ],
   "source": [
    "# 查看pv_uv_hourly的相关系数\n",
    "pv_uv_hourly.corr(method='pearson')"
   ]
  },
  {
   "cell_type": "code",
   "execution_count": 52,
   "metadata": {},
   "outputs": [
    {
     "data": {
      "text/plain": [
       "<Axes: >"
      ]
     },
     "execution_count": 52,
     "metadata": {},
     "output_type": "execute_result"
    },
    {
     "data": {
      "image/png": "[encoded data removed]",
      "text/plain": [
       "<Figure size 640x480 with 2 Axes>"
      ]
     },
     "metadata": {},
     "output_type": "display_data"
    }
   ],
   "source": [
    "# 绘制pv_uv_hourly的相关性热力图\n",
    "sns.heatmap(pv_uv_hourly.corr(method='pearson'), annot=True, cmap='RdYlGn', linewidths=0.2)"
   ]
  },
  {
   "cell_type": "code",
   "execution_count": 53,
   "metadata": {},
   "outputs": [
    {
     "data": {
      "image/png": "[encoded data removed]",
      "text/plain": [
       "<Figure size 1500x500 with 1 Axes>"
      ]
     },
     "metadata": {},
     "output_type": "display_data"
    }
   ],
   "source": [
    "# 绘制pv_uv_hourly的折线图\n",
    "plt.figure(figsize=(15, 5))\n",
    "plt.plot(pv_uv_hourly.index, pv_uv_hourly['pv'], label='pv')\n",
    "plt.plot(pv_uv_hourly.index, pv_uv_hourly['uv'], label='uv')\n",
    "plt.legend()\n",
    "plt.show()"
   ]
  },
  {
   "attachments": {},
   "cell_type": "markdown",
   "metadata": {},
   "source": [
    "## 从小时级别的数据中分析购买、收藏、加购物车的行为"
   ]
  },
  {
   "cell_type": "code",
   "execution_count": 54,
   "metadata": {},
   "outputs": [],
   "source": [
    "cart_hourly = user_data[user_data['behavior_type'] == 'cart'].groupby('hour')['user_id'].count() # 加入购物车\n",
    "fav_hourly = user_data[user_data['behavior_type'] == 'fav'].groupby('hour')['user_id'].count() # 收藏\n",
    "buy_hourly = user_data[user_data['behavior_type'] == 'buy'].groupby('hour')['user_id'].count() # 购买"
   ]
  },
  {
   "cell_type": "code",
   "execution_count": 55,
   "metadata": {},
   "outputs": [
    {
     "data": {
      "text/plain": [
       "hour\n",
       "0      643\n",
       "1      970\n",
       "2     1279\n",
       "3     1272\n",
       "4     1264\n",
       "5     1334\n",
       "6     1178\n",
       "7     1214\n",
       "8     1252\n",
       "9     1081\n",
       "10     898\n",
       "11    1181\n",
       "12    1355\n",
       "13    1380\n",
       "14    1367\n",
       "15     962\n",
       "16     576\n",
       "17     236\n",
       "18     148\n",
       "19      65\n",
       "20      88\n",
       "21      73\n",
       "22     155\n",
       "23     388\n",
       "Name: buy, dtype: int64"
      ]
     },
     "execution_count": 55,
     "metadata": {},
     "output_type": "execute_result"
    }
   ],
   "source": [
    "# 重命名列名\n",
    "cart_hourly.rename('cart', inplace=True)\n",
    "fav_hourly.rename('fav', inplace=True)\n",
    "buy_hourly.rename('buy', inplace=True)"
   ]
  },
  {
   "cell_type": "code",
   "execution_count": 58,
   "metadata": {},
   "outputs": [],
   "source": [
    "# 将pv_hourly, uv_hourly, cart_hourly, fav_hourly, buy_hourly合并\n",
    "total_hourly = pd.concat([pv_hourly, uv_hourly, cart_hourly, fav_hourly, buy_hourly], axis=1)"
   ]
  },
  {
   "cell_type": "code",
   "execution_count": 59,
   "metadata": {},
   "outputs": [
    {
     "data": {
      "text/html": [
       "<div>\n",
       "<style scoped>\n",
       "    .dataframe tbody tr th:only-of-type {\n",
       "        vertical-align: middle;\n",
       "    }\n",
       "\n",
       "    .dataframe tbody tr th {\n",
       "        vertical-align: top;\n",
       "    }\n",
       "\n",
       "    .dataframe thead th {\n",
       "        text-align: right;\n",
       "    }\n",
       "</style>\n",
       "<table border=\"1\" class=\"dataframe\">\n",
       "  <thead>\n",
       "    <tr style=\"text-align: right;\">\n",
       "      <th></th>\n",
       "      <th>pv</th>\n",
       "      <th>uv</th>\n",
       "      <th>cart</th>\n",
       "      <th>fav</th>\n",
       "      <th>buy</th>\n",
       "    </tr>\n",
       "    <tr>\n",
       "      <th>hour</th>\n",
       "      <th></th>\n",
       "      <th></th>\n",
       "      <th></th>\n",
       "      <th></th>\n",
       "      <th></th>\n",
       "    </tr>\n",
       "  </thead>\n",
       "  <tbody>\n",
       "    <tr>\n",
       "      <th>0</th>\n",
       "      <td>30021</td>\n",
       "      <td>4170</td>\n",
       "      <td>1869</td>\n",
       "      <td>988</td>\n",
       "      <td>643</td>\n",
       "    </tr>\n",
       "    <tr>\n",
       "      <th>1</th>\n",
       "      <td>37190</td>\n",
       "      <td>4937</td>\n",
       "      <td>2323</td>\n",
       "      <td>1259</td>\n",
       "      <td>970</td>\n",
       "    </tr>\n",
       "    <tr>\n",
       "      <th>2</th>\n",
       "      <td>43656</td>\n",
       "      <td>5484</td>\n",
       "      <td>2666</td>\n",
       "      <td>1418</td>\n",
       "      <td>1279</td>\n",
       "    </tr>\n",
       "    <tr>\n",
       "      <th>3</th>\n",
       "      <td>42710</td>\n",
       "      <td>5560</td>\n",
       "      <td>2663</td>\n",
       "      <td>1384</td>\n",
       "      <td>1272</td>\n",
       "    </tr>\n",
       "    <tr>\n",
       "      <th>4</th>\n",
       "      <td>42179</td>\n",
       "      <td>5599</td>\n",
       "      <td>2538</td>\n",
       "      <td>1333</td>\n",
       "      <td>1264</td>\n",
       "    </tr>\n",
       "  </tbody>\n",
       "</table>\n",
       "</div>"
      ],
      "text/plain": [
       "         pv    uv  cart   fav   buy\n",
       "hour                               \n",
       "0     30021  4170  1869   988   643\n",
       "1     37190  4937  2323  1259   970\n",
       "2     43656  5484  2666  1418  1279\n",
       "3     42710  5560  2663  1384  1272\n",
       "4     42179  5599  2538  1333  1264"
      ]
     },
     "execution_count": 59,
     "metadata": {},
     "output_type": "execute_result"
    }
   ],
   "source": [
    "# 查看total_hourly\n",
    "total_hourly.head()"
   ]
  },
  {
   "cell_type": "code",
   "execution_count": 64,
   "metadata": {},
   "outputs": [
    {
     "data": {
      "image/png": "[encoded data removed]",
      "text/plain": [
       "<Figure size 1500x500 with 2 Axes>"
      ]
     },
     "metadata": {},
     "output_type": "display_data"
    }
   ],
   "source": [
    "# 绘制total_hourly的折线图\n",
    "fig, ax1 = plt.subplots(figsize=(15, 5))\n",
    "ax2 = ax1.twinx()\n",
    "ax1.plot(total_hourly.index, total_hourly['pv'], label='pv')\n",
    "ax1.plot(total_hourly.index, total_hourly['uv'], label='uv')\n",
    "ax2.plot(total_hourly.index, total_hourly['cart'], label='cart', color='red', linestyle='--')\n",
    "ax2.plot(total_hourly.index, total_hourly['fav'], label='fav', color='green', linestyle='--')\n",
    "ax2.plot(total_hourly.index, total_hourly['buy'], label='buy', color='black', linestyle='--')\n",
    "ax1.legend(loc=2)\n",
    "ax2.legend(loc=1)\n",
    "plt.show()"
   ]
  },
  {
   "attachments": {},
   "cell_type": "markdown",
   "metadata": {},
   "source": [
    "## ARPU和ARPPU"
   ]
  },
  {
   "attachments": {},
   "cell_type": "markdown",
   "metadata": {},
   "source": [
    "### 计算ARPU\n",
    "ARPU是指平均每个用户的收入，即每个用户平均消费金额。ARPU是衡量网站盈利能力的重要指标。"
   ]
  },
  {
   "cell_type": "code",
   "execution_count": 65,
   "metadata": {},
   "outputs": [
    {
     "data": {
      "text/plain": [
       "user_id\n",
       "100        8\n",
       "1000001    1\n",
       "1000011    2\n",
       "100002     1\n",
       "1000027    2\n",
       "Name: item_id, dtype: int64"
      ]
     },
     "execution_count": 65,
     "metadata": {},
     "output_type": "execute_result"
    }
   ],
   "source": [
    "user_buy = user_data[user_data['behavior_type'] == 'buy'].groupby('user_id')['item_id'].count()\n",
    "# 查看user_buy\n",
    "user_buy.head()"
   ]
  },
  {
   "cell_type": "code",
   "execution_count": 66,
   "metadata": {},
   "outputs": [
    {
     "data": {
      "text/plain": [
       "count    6689.000000\n",
       "mean        3.043654\n",
       "std         3.250811\n",
       "min         1.000000\n",
       "25%         1.000000\n",
       "50%         2.000000\n",
       "75%         4.000000\n",
       "max        72.000000\n",
       "Name: item_id, dtype: float64"
      ]
     },
     "execution_count": 66,
     "metadata": {},
     "output_type": "execute_result"
    }
   ],
   "source": [
    "# 查看user_buy的描述性统计信息\n",
    "user_buy.describe()"
   ]
  },
  {
   "cell_type": "code",
   "execution_count": 67,
   "metadata": {},
   "outputs": [
    {
     "data": {
      "text/plain": [
       "<Axes: xlabel='item_id', ylabel='Density'>"
      ]
     },
     "execution_count": 67,
     "metadata": {},
     "output_type": "execute_result"
    },
    {
     "data": {
      "image/png": "[encoded data removed]",
      "text/plain": [
       "<Figure size 640x480 with 1 Axes>"
      ]
     },
     "metadata": {},
     "output_type": "display_data"
    }
   ],
   "source": [
    "# 查看user_buy的分布\n",
    "sns.distplot(user_buy)"
   ]
  },
  {
   "cell_type": "code",
   "execution_count": 70,
   "metadata": {},
   "outputs": [
    {
     "data": {
      "image/png": "[encoded data removed]",
      "text/plain": [
       "<Figure size 640x480 with 1 Axes>"
      ]
     },
     "metadata": {},
     "output_type": "display_data"
    }
   ],
   "source": [
    "plt.hist(user_buy[user_buy<=20], bins=20)\n",
    "plt.show()"
   ]
  },
  {
   "attachments": {},
   "cell_type": "markdown",
   "metadata": {},
   "source": [
    "### 计算ARPPU\n",
    "ARPPU是指平均每次付费用户的收入，即每次付费用户平均消费金额。ARPPU是衡量网站盈利能力的重要指标。"
   ]
  },
  {
   "cell_type": "code",
   "execution_count": 73,
   "metadata": {},
   "outputs": [],
   "source": [
    "arppu = user_data[user_data['behavior_type'] == 'buy'].groupby('user_id')['item_id'].count().mean()"
   ]
  },
  {
   "cell_type": "code",
   "execution_count": 74,
   "metadata": {},
   "outputs": [
    {
     "data": {
      "text/plain": [
       "3.0436537599043207"
      ]
     },
     "execution_count": 74,
     "metadata": {},
     "output_type": "execute_result"
    }
   ],
   "source": [
    "# 查看arppu\n",
    "arppu"
   ]
  },
  {
   "attachments": {},
   "cell_type": "markdown",
   "metadata": {},
   "source": [
    "## 计算转化率\n",
    "转化率是指用户从访问网站到完成某个行为的比率。转化率是衡量网站运营效果的重要指标。"
   ]
  },
  {
   "cell_type": "code",
   "execution_count": 75,
   "metadata": {},
   "outputs": [
    {
     "data": {
      "text/plain": [
       "0.6891613434988667"
      ]
     },
     "execution_count": 75,
     "metadata": {},
     "output_type": "execute_result"
    }
   ],
   "source": [
    "conver_rate = user_data[user_data['behavior_type'] == 'buy'].groupby('user_id')['item_id'].count().count() / user_data[user_data['behavior_type'] == 'pv'].groupby('user_id')['item_id'].count().count()\n",
    "conver_rate"
   ]
  },
  {
   "attachments": {},
   "cell_type": "markdown",
   "metadata": {},
   "source": [
    "## 统计商品的销售情况"
   ]
  },
  {
   "cell_type": "code",
   "execution_count": 77,
   "metadata": {},
   "outputs": [],
   "source": [
    "item_buy = user_data[user_data['behavior_type'] == 'buy'].groupby('item_id')['user_id'].count()"
   ]
  },
  {
   "cell_type": "code",
   "execution_count": 78,
   "metadata": {},
   "outputs": [
    {
     "data": {
      "text/plain": [
       "item_id\n",
       "1000273    1\n",
       "1000333    1\n",
       "1000533    1\n",
       "1002103    1\n",
       "1002346    1\n",
       "Name: user_id, dtype: int64"
      ]
     },
     "execution_count": 78,
     "metadata": {},
     "output_type": "execute_result"
    }
   ],
   "source": [
    "# 查看item_buy\n",
    "item_buy.head()"
   ]
  },
  {
   "cell_type": "code",
   "execution_count": 79,
   "metadata": {},
   "outputs": [
    {
     "data": {
      "text/plain": [
       "count    17565.000000\n",
       "mean         1.159066\n",
       "std          0.546493\n",
       "min          1.000000\n",
       "25%          1.000000\n",
       "50%          1.000000\n",
       "75%          1.000000\n",
       "max         17.000000\n",
       "Name: user_id, dtype: float64"
      ]
     },
     "execution_count": 79,
     "metadata": {},
     "output_type": "execute_result"
    }
   ],
   "source": [
    "item_buy.describe()"
   ]
  },
  {
   "cell_type": "code",
   "execution_count": 80,
   "metadata": {},
   "outputs": [],
   "source": [
    "top_100_item = item_buy.sort_values(ascending=False)[:100]"
   ]
  },
  {
   "cell_type": "code",
   "execution_count": 81,
   "metadata": {},
   "outputs": [
    {
     "data": {
      "text/plain": [
       "item_id\n",
       "3122135    17\n",
       "2964774    11\n",
       "3237415    11\n",
       "2124040    11\n",
       "4401268    10\n",
       "           ..\n",
       "4252236     4\n",
       "447253      4\n",
       "3618277     4\n",
       "4568476     4\n",
       "213747      4\n",
       "Name: user_id, Length: 100, dtype: int64"
      ]
     },
     "execution_count": 81,
     "metadata": {},
     "output_type": "execute_result"
    }
   ],
   "source": [
    "# 查看top_100_item\n",
    "top_100_item.head(100)"
   ]
  },
  {
   "attachments": {},
   "cell_type": "markdown",
   "metadata": {},
   "source": [
    "## 统计商品的类别"
   ]
  },
  {
   "cell_type": "code",
   "execution_count": 83,
   "metadata": {},
   "outputs": [
    {
     "data": {
      "text/plain": [
       "category_id\n",
       "1000959      6\n",
       "1001152      1\n",
       "1003726      2\n",
       "1004392     17\n",
       "1007591      1\n",
       "          ... \n",
       "998114      15\n",
       "999101       1\n",
       "999348       1\n",
       "999755     111\n",
       "999980      10\n",
       "Name: item_id, Length: 5796, dtype: int64"
      ]
     },
     "execution_count": 83,
     "metadata": {},
     "output_type": "execute_result"
    }
   ],
   "source": [
    "item_cate = user_data.groupby('category_id')['item_id'].nunique()\n",
    "item_cate"
   ]
  },
  {
   "cell_type": "code",
   "execution_count": 84,
   "metadata": {},
   "outputs": [
    {
     "data": {
      "text/plain": [
       "<Axes: xlabel='item_id', ylabel='Density'>"
      ]
     },
     "execution_count": 84,
     "metadata": {},
     "output_type": "execute_result"
    },
    {
     "data": {
      "image/png": "[encoded data removed]",
      "text/plain": [
       "<Figure size 640x480 with 1 Axes>"
      ]
     },
     "metadata": {},
     "output_type": "display_data"
    }
   ],
   "source": [
    "# 查看item_cate的分布\n",
    "sns.distplot(item_cate)"
   ]
  },
  {
   "cell_type": "code",
   "execution_count": 89,
   "metadata": {},
   "outputs": [
    {
     "data": {
      "text/plain": [
       "<Axes: xlabel='item_id', ylabel='Density'>"
      ]
     },
     "execution_count": 89,
     "metadata": {},
     "output_type": "execute_result"
    },
    {
     "data": {
      "image/png": "[encoded data removed]",
      "text/plain": [
       "<Figure size 640x480 with 1 Axes>"
      ]
     },
     "metadata": {},
     "output_type": "display_data"
    }
   ],
   "source": [
    "# 查看小于300的item_cate的分布\n",
    "sns.distplot(item_cate[item_cate < 300])"
   ]
  }
 ],
 "metadata": {
  "kernelspec": {
   "display_name": "Python 3",
   "language": "python",
   "name": "python3"
  },
  "language_info": {
   "codemirror_mode": {
    "name": "ipython",
    "version": 3
   },
   "file_extension": ".py",
   "mimetype": "text/x-python",
   "name": "python",
   "nbconvert_exporter": "python",
   "pygments_lexer": "ipython3",
   "version": "3.10.10"
  },
  "orig_nbformat": 4
 },
 "nbformat": 4,
 "nbformat_minor": 2
}
